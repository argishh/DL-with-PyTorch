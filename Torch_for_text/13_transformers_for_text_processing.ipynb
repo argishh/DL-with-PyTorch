{
 "cells": [
  {
   "cell_type": "markdown",
   "metadata": {},
   "source": [
    "#### **Transformers for Text Processing**\n",
    "\n",
    "Why use Transformers for text processing?\n",
    "- Transformers (like those from huggingface) are foundation of many pre-trained models and are known for speed.\n",
    "- It can understand the relationship between words, regardless of distances of words within the text.\n",
    "- It can generate highly authentic human-like text.\n",
    "\n",
    "#### **Components of a Transformer**\n",
    "\n",
    "- `Encoder`: processes input data\n",
    "- `Decoder`: reconstructs the output\n",
    "- `Feed-forward Neural Networks`: refines understanding (identifies nuances like sarcasm)\n",
    "- `Positional Encoding`: ensures order matters\n",
    "- `Multi-Head Attention`: captures multiple inputs or sentiments"
   ]
  },
  {
   "cell_type": "code",
   "execution_count": 71,
   "metadata": {},
   "outputs": [],
   "source": [
    "# dataset\n",
    "sentences = ['I love this produce',\n",
    "             'This is terrible',\n",
    "             'Could be better',\n",
    "             'This is the best']\n",
    "labels = [1, 0, 0, 1]\n",
    "\n",
    "# splitting training & testing data\n",
    "# training data\n",
    "train_sentences = sentences[:3]\n",
    "train_labels = labels[:3]\n",
    "\n",
    "# testing data\n",
    "test_sentences = sentences[3:]\n",
    "test_labels = labels[3:]"
   ]
  },
  {
   "cell_type": "markdown",
   "metadata": {},
   "source": [
    "#### **Building Transformer Model**"
   ]
  },
  {
   "cell_type": "code",
   "execution_count": 65,
   "metadata": {},
   "outputs": [
    {
     "name": "stderr",
     "output_type": "stream",
     "text": [
      "d:\\Coding\\ML\\DataCamp - DL with PyTorch\\.venv\\lib\\site-packages\\torch\\nn\\modules\\transformer.py:286: UserWarning: enable_nested_tensor is True, but self.use_nested_tensor is False because encoder_layer.self_attn.batch_first was not True(use batch_first for better inference performance)\n",
      "  warnings.warn(f\"enable_nested_tensor is True, but self.use_nested_tensor is False because {why_not_sparsity_fast_path}\")\n"
     ]
    }
   ],
   "source": [
    "import torch\n",
    "from torch import nn, optim\n",
    "\n",
    "class TransformerEncoder(nn.Module):\n",
    "    def __init__(self, embed_size, heads, num_layers, dropout):\n",
    "        super(TransformerEncoder, self).__init__()\n",
    "        self.encoder = nn.TransformerEncoder(nn.TransformerEncoderLayer(d_model=embed_size, nhead=heads), num_layers=num_layers)\n",
    "        self.fc = nn.Linear(embed_size, 2)\n",
    "    \n",
    "    def forward(self, x):\n",
    "        x = self.encoder(x)\n",
    "        x = x.mean(dim=1)\n",
    "        return self.fc(x)\n",
    "\n",
    "model = TransformerEncoder(embed_size=512, heads=8, num_layers=3, dropout=0.5)  # embed_size=512 for balanced power & efficiency, heads=8 for focusing on 8 word segments at once, num_layers=3 as well as dropout=0.5 for combating overfitting (both factors affects overfitting)\n",
    "optimizer = optim.Adam(model.parameters(), lr=0.001)\n",
    "criterion = nn.CrossEntropyLoss()"
   ]
  },
  {
   "cell_type": "code",
   "execution_count": null,
   "metadata": {},
   "outputs": [],
   "source": [
    "# Training the transformer\n",
    "\n",
    "epochs = 5\n",
    "\n",
    "for epoch in range(epochs):\n",
    "    for sentence, label in zip(train_sentences, train_labels):\n",
    "        tokens = sentence.split()\n",
    "        data = torch.stack([token_embeddings[token] for token in tokens], dim=1)    # token_embeddings is a pre-made embeddings dictionary\n",
    "        output = model(data)\n",
    "        loss = criterion(output, torch.tensor([label]))\n",
    "        optimizer.zero_grad()\n",
    "        loss.backward()\n",
    "        optimizer.step()\n",
    "        print(f'Epoch: {epoch+1}, Loss: {loss.item()}')"
   ]
  },
  {
   "cell_type": "code",
   "execution_count": 75,
   "metadata": {},
   "outputs": [],
   "source": [
    "# predicting sentiments\n",
    "\n",
    "def predict(sentence):\n",
    "    model.eval()\n",
    "    with torch.no_grad():\n",
    "        tokens = sentence.split()\n",
    "        data = torch.stack([token_embeddings.get(token, torch.rand((1, 512))) for token in tokens], dim=1)\n",
    "        output = model(data)\n",
    "        predicted = torch.argmax(output, dim=1)\n",
    "        return 'Positive' if predicted.item() == 1 else 'Negative'"
   ]
  },
  {
   "cell_type": "code",
   "execution_count": null,
   "metadata": {},
   "outputs": [],
   "source": [
    "# predicting sentiment of a new text\n",
    "\n",
    "sample_text = 'This product can be better'\n",
    "print(f\"'{sample_text}' is {predict(sample_text)}\")"
   ]
  },
  {
   "cell_type": "code",
   "execution_count": null,
   "metadata": {},
   "outputs": [],
   "source": []
  }
 ],
 "metadata": {
  "kernelspec": {
   "display_name": ".venv",
   "language": "python",
   "name": "python3"
  },
  "language_info": {
   "codemirror_mode": {
    "name": "ipython",
    "version": 3
   },
   "file_extension": ".py",
   "mimetype": "text/x-python",
   "name": "python",
   "nbconvert_exporter": "python",
   "pygments_lexer": "ipython3",
   "version": "3.10.6"
  }
 },
 "nbformat": 4,
 "nbformat_minor": 2
}
