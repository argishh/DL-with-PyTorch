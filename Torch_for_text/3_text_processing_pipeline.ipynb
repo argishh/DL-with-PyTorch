{
 "cells": [
  {
   "cell_type": "markdown",
   "metadata": {},
   "source": [
    "#### **Implementing Dataset and Dataloder**\n",
    "\n",
    "Organizing and accessing our text data efficiently is crucial in text processing pipelines. \\\n",
    "We can implement this by extending pytorch's `Dataset` class in our own `TextDataset` class."
   ]
  },
  {
   "cell_type": "code",
   "execution_count": 33,
   "metadata": {},
   "outputs": [],
   "source": [
    "from torch.utils.data import Dataset, DataLoader\n",
    "\n",
    "class TextDataset(Dataset):\n",
    "    def __init__(self, text):\n",
    "        self.text = text\n",
    "    \n",
    "    def __len__(self):\n",
    "        return len(self.text)\n",
    "\n",
    "    def __getitem__(self, idx):\n",
    "        return self.text[idx]"
   ]
  },
  {
   "cell_type": "markdown",
   "metadata": {},
   "source": [
    "Instantiating TextDataset with the encoded text and creating a dataloader."
   ]
  },
  {
   "cell_type": "code",
   "execution_count": null,
   "metadata": {},
   "outputs": [],
   "source": [
    "dataset = TextDataset(encoded_text)\n",
    "dataloader = DataLoader(dataset, batch_size=2, shuffle=True)"
   ]
  },
  {
   "cell_type": "markdown",
   "metadata": {},
   "source": [
    "#### **Pre-processing using helper functions**\n",
    "\n",
    "Preprocessing functions lets us combine text preprocessing methods into a single helper function. \\\n",
    "We can customize the preprocessing function to include specific techniquies depending on the problem."
   ]
  },
  {
   "cell_type": "code",
   "execution_count": 49,
   "metadata": {},
   "outputs": [],
   "source": [
    "from torchtext.data.utils import get_tokenizer\n",
    "from sklearn.feature_extraction.text import CountVectorizer\n",
    "import nltk\n",
    "# nltk.download('stopwords')\n",
    "from nltk.corpus import stopwords\n",
    "from nltk.stem import PorterStemmer\n",
    "from nltk.probability import FreqDist\n",
    "import regex as re\n",
    "\n",
    "def preprocess_sentences(sentences):\n",
    "    processed_sentences = []\n",
    "    for sentence in sentences:\n",
    "        sentence = sentence.lower()\n",
    "        tokenizer = get_tokenizer('basic_english')\n",
    "        tokens = tokenizer(sentence)\n",
    "        # print(\"tokens:\",tokens)       # Print statements for debugging\n",
    "        stop_words = set(stopwords.words('english'))\n",
    "        tokens = [token for token in tokens if token not in stop_words]\n",
    "        # print(\"stop words removed tokens:\",tokens)\n",
    "        stemmer = PorterStemmer()\n",
    "        tokens = [stemmer.stem(token) for token in tokens]\n",
    "        # print(\"stemmed tokens:\",tokens)\n",
    "        freq_dist = FreqDist(tokens)\n",
    "        threshold = 0   # commonly used threshold is 2\n",
    "        tokens = [token for token in tokens if freq_dist[token] > threshold]\n",
    "        # print(\"freq dist filtered tokens:\",tokens)\n",
    "        processed_sentences.append(' '.join(tokens))\n",
    "        # print(\"processed sentences:\", processed_sentences)\n",
    "    return processed_sentences\n",
    "\n",
    "def encode_sentences(sentences):\n",
    "    vectorizer = CountVectorizer()\n",
    "    X = vectorizer.fit_transform(sentences)\n",
    "    encode_sentences = X.toarray()\n",
    "    return encode_sentences, vectorizer\n",
    "\n",
    "def extract_sentences(data):\n",
    "    sentences = re.findall(r'[A-Z][^.!?]*[.!?]', data)\n",
    "    return sentences"
   ]
  },
  {
   "cell_type": "markdown",
   "metadata": {},
   "source": [
    "#### **Text Processing Pipeline**"
   ]
  },
  {
   "cell_type": "code",
   "execution_count": 50,
   "metadata": {},
   "outputs": [],
   "source": [
    "def text_processing_pipeline(text):\n",
    "    tokens = preprocess_sentences(text)\n",
    "    encoded_sentences, vectorizer = encode_sentences(tokens)\n",
    "    dataset = TextDataset(encoded_sentences)\n",
    "    dataloader = DataLoader(dataset, batch_size=2, shuffle=True)\n",
    "    return dataloader, vectorizer"
   ]
  },
  {
   "cell_type": "markdown",
   "metadata": {},
   "source": [
    "#### **Applying Text Processing Pipeline**"
   ]
  },
  {
   "cell_type": "code",
   "execution_count": 51,
   "metadata": {},
   "outputs": [
    {
     "name": "stdout",
     "output_type": "stream",
     "text": [
      "tensor([0, 0, 1, 1, 2, 0, 2, 2])\n"
     ]
    }
   ],
   "source": [
    "text_data = \"This is the first sentence text contating first sentence of the text data. And here is another one contaninig one other text sentence.\"\n",
    "# sentences = extract_sentences(text_data)\n",
    "sentences = text_data.split(\". \")\n",
    "# dataloaders, vectorizer = [text_processing_pipeline(text) for text in sentences]\n",
    "dataloaders, vectorizer = text_processing_pipeline(sentences)\n",
    "\n",
    "print(next(iter(dataloaders))[0, :10])"
   ]
  },
  {
   "cell_type": "code",
   "execution_count": null,
   "metadata": {},
   "outputs": [],
   "source": []
  }
 ],
 "metadata": {
  "kernelspec": {
   "display_name": ".venv",
   "language": "python",
   "name": "python3"
  },
  "language_info": {
   "codemirror_mode": {
    "name": "ipython",
    "version": 3
   },
   "file_extension": ".py",
   "mimetype": "text/x-python",
   "name": "python",
   "nbconvert_exporter": "python",
   "pygments_lexer": "ipython3",
   "version": "3.10.6"
  }
 },
 "nbformat": 4,
 "nbformat_minor": 2
}
